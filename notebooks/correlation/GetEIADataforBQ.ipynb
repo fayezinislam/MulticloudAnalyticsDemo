{
 "cells": [
  {
   "cell_type": "code",
   "execution_count": 1,
   "id": "36a465b8",
   "metadata": {},
   "outputs": [
    {
     "name": "stdout",
     "output_type": "stream",
     "text": [
      "Requirement already satisfied: eiapy in /opt/conda/lib/python3.7/site-packages (0.1.5)\n",
      "Requirement already satisfied: requests in /opt/conda/lib/python3.7/site-packages (from eiapy) (2.25.1)\n",
      "Requirement already satisfied: chardet<5,>=3.0.2 in /opt/conda/lib/python3.7/site-packages (from requests->eiapy) (4.0.0)\n",
      "Requirement already satisfied: urllib3<1.27,>=1.21.1 in /opt/conda/lib/python3.7/site-packages (from requests->eiapy) (1.26.5)\n",
      "Requirement already satisfied: idna<3,>=2.5 in /opt/conda/lib/python3.7/site-packages (from requests->eiapy) (2.10)\n",
      "Requirement already satisfied: certifi>=2017.4.17 in /opt/conda/lib/python3.7/site-packages (from requests->eiapy) (2021.5.30)\n"
     ]
    }
   ],
   "source": [
    "import pandas as pd\n",
    "from IPython.display import clear_output\n",
    "\n",
    "import os\n",
    "\n",
    "!pip install eiapy\n",
    "\n",
    "os.environ['EIA_KEY'] = '88f8dcdae0e5dd59a7a693365d0cc12d'\n",
    "API_KEY = os.environ['EIA_KEY']\n",
    "\n",
    "from eiapy import Category, Series\n",
    "\n",
    "import time"
   ]
  },
  {
   "cell_type": "markdown",
   "id": "7a56667b",
   "metadata": {},
   "source": [
    "## Setup to Problems\n",
    "\n",
    "I want to understand the various energy generation methods and thier relationship to energy sector firms listed on NASDQ.  I will source this information via EIA API https://www.eia.gov/\n",
    "\n",
    "\n",
    "This will focus on power productions and that is Category #3 of the API this is the list of how that content is organized."
   ]
  },
  {
   "cell_type": "code",
   "execution_count": 2,
   "id": "8372ef79",
   "metadata": {},
   "outputs": [
    {
     "name": "stdout",
     "output_type": "stream",
     "text": [
      "{'category_id': 1736519, 'name': 'All fuels'}\n",
      "{'category_id': 4, 'name': 'Coal'}\n",
      "{'category_id': 7, 'name': 'Petroleum liquids'}\n",
      "{'category_id': 8, 'name': 'Petroleum coke'}\n",
      "{'category_id': 9, 'name': 'Natural gas'}\n",
      "{'category_id': 10, 'name': 'Other gases'}\n",
      "{'category_id': 11, 'name': 'Nuclear'}\n",
      "{'category_id': 12, 'name': 'Conventional hydroelectric'}\n",
      "{'category_id': 13, 'name': 'Other renewables (total)'}\n",
      "{'category_id': 14, 'name': 'Wind'}\n",
      "{'category_id': 15, 'name': 'All utility-scale solar'}\n",
      "{'category_id': 1718400, 'name': 'Utility-scale photovoltaic'}\n",
      "{'category_id': 1718401, 'name': 'Utility-scale thermal'}\n",
      "{'category_id': 17, 'name': 'Geothermal'}\n",
      "{'category_id': 16, 'name': 'Wood and wood-derived fuels'}\n",
      "{'category_id': 18, 'name': 'Other biomass'}\n",
      "{'category_id': 19, 'name': 'Hydro-electric pumped storage'}\n",
      "{'category_id': 20, 'name': 'Other'}\n",
      "{'category_id': 1718408, 'name': 'All solar'}\n",
      "{'category_id': 1718409, 'name': 'Small-scale solar photovoltaic'}\n"
     ]
    }
   ],
   "source": [
    "cat = Category(3) #https://www.eia.gov/opendata/qb.php?category=3 # Electricity by Fuel Type\n",
    "\n",
    "cat.get_info().keys()\n",
    "#get a list of category id's for all power generation in us\n",
    "for category in cat.get_info()['category']['childcategories']:\n",
    "\n",
    "\n",
    "    print (category)\n",
    "    \n",
    "    \n",
    "    "
   ]
  },
  {
   "cell_type": "code",
   "execution_count": 3,
   "id": "8b316be1",
   "metadata": {},
   "outputs": [
    {
     "name": "stdout",
     "output_type": "stream",
     "text": [
      "Done!\n"
     ]
    }
   ],
   "source": [
    "cat = Category(3)  #https://www.eia.gov/opendata/qb.php?category=3\n",
    "\n",
    "\n",
    "#get a list of category id's for all power generation in us\n",
    "cat.get_info()['category']['childcategories']\n",
    "\n",
    "results =[]\n",
    "#Target Categories\n",
    "for category in cat.get_info()['category']['childcategories']:\n",
    "    print (category['name'])\n",
    "    \n",
    "    cat = Category(category['category_id'])\n",
    "    if cat == 8:\n",
    "        print ('Skipping')\n",
    "        continue\n",
    "        \n",
    "        \n",
    "    for series in cat.get_info()['category']['childseries']:\n",
    "        iid = series['series_id']\n",
    "        #print (iid)\n",
    "        \n",
    "        #ignore all\n",
    "        #ELEC.GEN.ALL-AK-99.M\n",
    "        #if iid.find('DPV') != -1 or iid.find('ALL') != -1 :\n",
    "        #    continue\n",
    "        #only want Monthly Series 'M'; others 'A', 'Y'\n",
    "        \n",
    "        \n",
    "        if iid.split('.')[-1] == 'M':\n",
    "            #print (series)\n",
    "            print ('\\t',series['series_id'])\n",
    "\n",
    "            ser = Series(iid)\n",
    "            df = pd.DataFrame(ser.get_data(all_data=True)['series'][0]['data']\n",
    "                            )\n",
    "            df.columns = ['date', 'value']\n",
    "            df['date'] = pd.to_datetime(df['date'], format='%Y%m')\n",
    "            df['name'] = series['name']\n",
    "            df['units'] = series['units']\n",
    "            df['state'] = series['name'].split(':')[2].strip()\n",
    "            df['type'] = series['name'].split(':')[1].strip()\n",
    "            df['measure'] = series['name'].split(':')[0].strip()\n",
    "            df['period'] = series['name'].split(':')[-1].strip()\n",
    "            df['dt_loaded'] = pd.Timestamp.date(pd.Timestamp.now())\n",
    "            \n",
    "            \n",
    "            \n",
    "            \n",
    "            results += [df]\n",
    "    clear_output(wait=True)\n",
    "        \n",
    "clear_output(wait=True)\n",
    "print ('Done!')"
   ]
  },
  {
   "cell_type": "code",
   "execution_count": 4,
   "id": "67b413cb",
   "metadata": {},
   "outputs": [],
   "source": [
    "powerGenerationDF = pd.concat(results, ignore_index=True)"
   ]
  },
  {
   "cell_type": "code",
   "execution_count": 5,
   "id": "0bd725ff",
   "metadata": {},
   "outputs": [
    {
     "data": {
      "text/html": [
       "<div>\n",
       "<style scoped>\n",
       "    .dataframe tbody tr th:only-of-type {\n",
       "        vertical-align: middle;\n",
       "    }\n",
       "\n",
       "    .dataframe tbody tr th {\n",
       "        vertical-align: top;\n",
       "    }\n",
       "\n",
       "    .dataframe thead th {\n",
       "        text-align: right;\n",
       "    }\n",
       "</style>\n",
       "<table border=\"1\" class=\"dataframe\">\n",
       "  <thead>\n",
       "    <tr style=\"text-align: right;\">\n",
       "      <th></th>\n",
       "      <th>date</th>\n",
       "      <th>value</th>\n",
       "      <th>name</th>\n",
       "      <th>units</th>\n",
       "      <th>state</th>\n",
       "      <th>type</th>\n",
       "      <th>measure</th>\n",
       "      <th>period</th>\n",
       "      <th>dt_loaded</th>\n",
       "    </tr>\n",
       "  </thead>\n",
       "  <tbody>\n",
       "    <tr>\n",
       "      <th>0</th>\n",
       "      <td>2021-11-01</td>\n",
       "      <td>509.29265</td>\n",
       "      <td>Net generation : all fuels : Alaska : all sect...</td>\n",
       "      <td>thousand megawatthours</td>\n",
       "      <td>Alaska</td>\n",
       "      <td>all fuels</td>\n",
       "      <td>Net generation</td>\n",
       "      <td>monthly</td>\n",
       "      <td>2022-02-01</td>\n",
       "    </tr>\n",
       "    <tr>\n",
       "      <th>1</th>\n",
       "      <td>2021-10-01</td>\n",
       "      <td>472.36705</td>\n",
       "      <td>Net generation : all fuels : Alaska : all sect...</td>\n",
       "      <td>thousand megawatthours</td>\n",
       "      <td>Alaska</td>\n",
       "      <td>all fuels</td>\n",
       "      <td>Net generation</td>\n",
       "      <td>monthly</td>\n",
       "      <td>2022-02-01</td>\n",
       "    </tr>\n",
       "    <tr>\n",
       "      <th>2</th>\n",
       "      <td>2021-09-01</td>\n",
       "      <td>460.15390</td>\n",
       "      <td>Net generation : all fuels : Alaska : all sect...</td>\n",
       "      <td>thousand megawatthours</td>\n",
       "      <td>Alaska</td>\n",
       "      <td>all fuels</td>\n",
       "      <td>Net generation</td>\n",
       "      <td>monthly</td>\n",
       "      <td>2022-02-01</td>\n",
       "    </tr>\n",
       "    <tr>\n",
       "      <th>3</th>\n",
       "      <td>2021-08-01</td>\n",
       "      <td>570.55978</td>\n",
       "      <td>Net generation : all fuels : Alaska : all sect...</td>\n",
       "      <td>thousand megawatthours</td>\n",
       "      <td>Alaska</td>\n",
       "      <td>all fuels</td>\n",
       "      <td>Net generation</td>\n",
       "      <td>monthly</td>\n",
       "      <td>2022-02-01</td>\n",
       "    </tr>\n",
       "    <tr>\n",
       "      <th>4</th>\n",
       "      <td>2021-07-01</td>\n",
       "      <td>559.86337</td>\n",
       "      <td>Net generation : all fuels : Alaska : all sect...</td>\n",
       "      <td>thousand megawatthours</td>\n",
       "      <td>Alaska</td>\n",
       "      <td>all fuels</td>\n",
       "      <td>Net generation</td>\n",
       "      <td>monthly</td>\n",
       "      <td>2022-02-01</td>\n",
       "    </tr>\n",
       "  </tbody>\n",
       "</table>\n",
       "</div>"
      ],
      "text/plain": [
       "        date      value                                               name  \\\n",
       "0 2021-11-01  509.29265  Net generation : all fuels : Alaska : all sect...   \n",
       "1 2021-10-01  472.36705  Net generation : all fuels : Alaska : all sect...   \n",
       "2 2021-09-01  460.15390  Net generation : all fuels : Alaska : all sect...   \n",
       "3 2021-08-01  570.55978  Net generation : all fuels : Alaska : all sect...   \n",
       "4 2021-07-01  559.86337  Net generation : all fuels : Alaska : all sect...   \n",
       "\n",
       "                    units   state       type         measure   period  \\\n",
       "0  thousand megawatthours  Alaska  all fuels  Net generation  monthly   \n",
       "1  thousand megawatthours  Alaska  all fuels  Net generation  monthly   \n",
       "2  thousand megawatthours  Alaska  all fuels  Net generation  monthly   \n",
       "3  thousand megawatthours  Alaska  all fuels  Net generation  monthly   \n",
       "4  thousand megawatthours  Alaska  all fuels  Net generation  monthly   \n",
       "\n",
       "    dt_loaded  \n",
       "0  2022-02-01  \n",
       "1  2022-02-01  \n",
       "2  2022-02-01  \n",
       "3  2022-02-01  \n",
       "4  2022-02-01  "
      ]
     },
     "execution_count": 5,
     "metadata": {},
     "output_type": "execute_result"
    }
   ],
   "source": [
    "powerGenerationDF.head()"
   ]
  },
  {
   "cell_type": "markdown",
   "id": "27a0e140",
   "metadata": {},
   "source": [
    "## Collect Some Pricing Information as well!"
   ]
  },
  {
   "cell_type": "code",
   "execution_count": 6,
   "id": "35e984de",
   "metadata": {},
   "outputs": [
    {
     "name": "stdout",
     "output_type": "stream",
     "text": [
      "Done!\n"
     ]
    }
   ],
   "source": [
    "cat = Category(40)  #https://www.eia.gov/opendata/qb.php?category=3\n",
    "\n",
    "\n",
    "#get a list of category id's for all power generation in us\n",
    "cat.get_info()['category']['childcategories']\n",
    "\n",
    "results =[]\n",
    "#Target Categories\n",
    "for category in cat.get_info()['category']['childcategories']:\n",
    "    print (category['name'])\n",
    "    cat = Category(category['category_id'])\n",
    "    \n",
    "    for series in cat.get_info()['category']['childseries']:\n",
    "        iid = series['series_id']\n",
    "        #print (iid)\n",
    "        \n",
    "        #ignore all\n",
    "        #ELEC.GEN.ALL-AK-99.M\n",
    "        #if iid.find('DPV') != -1 or iid.find('ALL') != -1 :\n",
    "        #    continue\n",
    "        #only want Monthly Series 'M'; others 'A', 'Y'\n",
    "        \n",
    "        \n",
    "        if iid.split('.')[-1] == 'M':\n",
    "            #print (series)\n",
    "            print ('\\t',series['series_id'])\n",
    "\n",
    "            ser = Series(iid)\n",
    "            df = pd.DataFrame(ser.get_data(all_data=True)['series'][0]['data']\n",
    "                            )\n",
    "            df.columns = ['date', 'value']\n",
    "            df['date'] = pd.to_datetime(df['date'], format='%Y%m')\n",
    "            df['name'] = series['name']\n",
    "            df['units'] = series['units']\n",
    "            df['consumer_type'] = series['name'].split(':')[2].strip()\n",
    "            df['state'] = series['name'].split(':')[1].strip()\n",
    "            df['measure'] = series['name'].split(':')[0].strip()\n",
    "            df['period'] = series['name'].split(':')[-1].strip()\n",
    "            df['dt_loaded'] = pd.Timestamp.date(pd.Timestamp.now())\n",
    "            \n",
    "            \n",
    "            \n",
    "            results += [df]\n",
    "            \n",
    "    clear_output(wait=True)\n",
    "    \n",
    "        \n",
    "clear_output(wait=True)\n",
    "\n",
    "print ('Done!')"
   ]
  },
  {
   "cell_type": "code",
   "execution_count": 8,
   "id": "0028cc78",
   "metadata": {},
   "outputs": [],
   "source": [
    "powerPricingDF = pd.concat(results, ignore_index=True)"
   ]
  },
  {
   "cell_type": "code",
   "execution_count": 9,
   "id": "61bc7c0b",
   "metadata": {},
   "outputs": [
    {
     "data": {
      "text/html": [
       "<div>\n",
       "<style scoped>\n",
       "    .dataframe tbody tr th:only-of-type {\n",
       "        vertical-align: middle;\n",
       "    }\n",
       "\n",
       "    .dataframe tbody tr th {\n",
       "        vertical-align: top;\n",
       "    }\n",
       "\n",
       "    .dataframe thead th {\n",
       "        text-align: right;\n",
       "    }\n",
       "</style>\n",
       "<table border=\"1\" class=\"dataframe\">\n",
       "  <thead>\n",
       "    <tr style=\"text-align: right;\">\n",
       "      <th></th>\n",
       "      <th>date</th>\n",
       "      <th>value</th>\n",
       "      <th>name</th>\n",
       "      <th>units</th>\n",
       "      <th>consumer_type</th>\n",
       "      <th>state</th>\n",
       "      <th>measure</th>\n",
       "      <th>period</th>\n",
       "      <th>dt_loaded</th>\n",
       "    </tr>\n",
       "  </thead>\n",
       "  <tbody>\n",
       "    <tr>\n",
       "      <th>0</th>\n",
       "      <td>2021-11-01</td>\n",
       "      <td>22.60</td>\n",
       "      <td>Average retail price of electricity : Alaska :...</td>\n",
       "      <td>cents per kilowatthour</td>\n",
       "      <td>residential</td>\n",
       "      <td>Alaska</td>\n",
       "      <td>Average retail price of electricity</td>\n",
       "      <td>monthly</td>\n",
       "      <td>2022-02-01</td>\n",
       "    </tr>\n",
       "    <tr>\n",
       "      <th>1</th>\n",
       "      <td>2021-10-01</td>\n",
       "      <td>23.21</td>\n",
       "      <td>Average retail price of electricity : Alaska :...</td>\n",
       "      <td>cents per kilowatthour</td>\n",
       "      <td>residential</td>\n",
       "      <td>Alaska</td>\n",
       "      <td>Average retail price of electricity</td>\n",
       "      <td>monthly</td>\n",
       "      <td>2022-02-01</td>\n",
       "    </tr>\n",
       "    <tr>\n",
       "      <th>2</th>\n",
       "      <td>2021-09-01</td>\n",
       "      <td>23.21</td>\n",
       "      <td>Average retail price of electricity : Alaska :...</td>\n",
       "      <td>cents per kilowatthour</td>\n",
       "      <td>residential</td>\n",
       "      <td>Alaska</td>\n",
       "      <td>Average retail price of electricity</td>\n",
       "      <td>monthly</td>\n",
       "      <td>2022-02-01</td>\n",
       "    </tr>\n",
       "    <tr>\n",
       "      <th>3</th>\n",
       "      <td>2021-08-01</td>\n",
       "      <td>23.31</td>\n",
       "      <td>Average retail price of electricity : Alaska :...</td>\n",
       "      <td>cents per kilowatthour</td>\n",
       "      <td>residential</td>\n",
       "      <td>Alaska</td>\n",
       "      <td>Average retail price of electricity</td>\n",
       "      <td>monthly</td>\n",
       "      <td>2022-02-01</td>\n",
       "    </tr>\n",
       "    <tr>\n",
       "      <th>4</th>\n",
       "      <td>2021-07-01</td>\n",
       "      <td>23.42</td>\n",
       "      <td>Average retail price of electricity : Alaska :...</td>\n",
       "      <td>cents per kilowatthour</td>\n",
       "      <td>residential</td>\n",
       "      <td>Alaska</td>\n",
       "      <td>Average retail price of electricity</td>\n",
       "      <td>monthly</td>\n",
       "      <td>2022-02-01</td>\n",
       "    </tr>\n",
       "  </tbody>\n",
       "</table>\n",
       "</div>"
      ],
      "text/plain": [
       "        date  value                                               name  \\\n",
       "0 2021-11-01  22.60  Average retail price of electricity : Alaska :...   \n",
       "1 2021-10-01  23.21  Average retail price of electricity : Alaska :...   \n",
       "2 2021-09-01  23.21  Average retail price of electricity : Alaska :...   \n",
       "3 2021-08-01  23.31  Average retail price of electricity : Alaska :...   \n",
       "4 2021-07-01  23.42  Average retail price of electricity : Alaska :...   \n",
       "\n",
       "                    units consumer_type   state  \\\n",
       "0  cents per kilowatthour   residential  Alaska   \n",
       "1  cents per kilowatthour   residential  Alaska   \n",
       "2  cents per kilowatthour   residential  Alaska   \n",
       "3  cents per kilowatthour   residential  Alaska   \n",
       "4  cents per kilowatthour   residential  Alaska   \n",
       "\n",
       "                               measure   period   dt_loaded  \n",
       "0  Average retail price of electricity  monthly  2022-02-01  \n",
       "1  Average retail price of electricity  monthly  2022-02-01  \n",
       "2  Average retail price of electricity  monthly  2022-02-01  \n",
       "3  Average retail price of electricity  monthly  2022-02-01  \n",
       "4  Average retail price of electricity  monthly  2022-02-01  "
      ]
     },
     "execution_count": 9,
     "metadata": {},
     "output_type": "execute_result"
    }
   ],
   "source": [
    "powerPricingDF.head()"
   ]
  },
  {
   "cell_type": "markdown",
   "id": "d117056a",
   "metadata": {},
   "source": [
    "## Create BQ Table in My Personal Data Set\n",
    "\n",
    "\n"
   ]
  },
  {
   "cell_type": "code",
   "execution_count": 10,
   "id": "7a105bdd",
   "metadata": {},
   "outputs": [],
   "source": [
    "from google.cloud import bigquery\n",
    "\n",
    "client = bigquery.Client(location=\"US\")  \n"
   ]
  },
  {
   "cell_type": "code",
   "execution_count": 11,
   "id": "717057bb",
   "metadata": {},
   "outputs": [
    {
     "name": "stdout",
     "output_type": "stream",
     "text": [
      "Loaded dataframe to /projects/fsi-select-demo/datasets/us_eia/tables/electricity_generation\n"
     ]
    }
   ],
   "source": [
    "# Define a name for the new dataset.\n",
    "dataset_id = 'us_eia'\n",
    "dataset = client.create_dataset(dataset_id, exists_ok=True)  # API request\n",
    "\n",
    "\n",
    "table_ref = dataset.table(\"electricity_generation\")\n",
    "try:\n",
    "    dataset = client.create_dataset(dataset_id)\n",
    "except:\n",
    "    #Delete\n",
    "    client.delete_table(table_ref, not_found_ok=True)\n",
    "\n",
    "job = client.load_table_from_dataframe(powerGenerationDF, table_ref, location=\"US\")\n",
    "\n",
    "job.result()  # Waits for table load to complete.\n",
    "print(\"Loaded dataframe to {}\".format(table_ref.path))"
   ]
  },
  {
   "cell_type": "code",
   "execution_count": 12,
   "id": "7dbd2dc5",
   "metadata": {},
   "outputs": [
    {
     "name": "stdout",
     "output_type": "stream",
     "text": [
      "Loaded dataframe to /projects/fsi-select-demo/datasets/us_eia/tables/electricity_retail_pricing\n"
     ]
    }
   ],
   "source": [
    "table_ref = dataset.table(\"electricity_retail_pricing\")\n",
    "try:\n",
    "    dataset = client.create_dataset(dataset_id)\n",
    "except:\n",
    "    #Delete\n",
    "    client.delete_table(table_ref, not_found_ok=True)\n",
    "\n",
    "job = client.load_table_from_dataframe(powerPricingDF, table_ref, location=\"US\")\n",
    "\n",
    "job.result()  # Waits for table load to complete.\n",
    "print(\"Loaded dataframe to {}\".format(table_ref.path))"
   ]
  },
  {
   "cell_type": "markdown",
   "id": "ac302fc6",
   "metadata": {},
   "source": [
    "## Create Aggregate BQ View \n",
    "Total Production by Type by Month (i.e. net out states)\n",
    "\n",
    "Total Production by State (i.e. net out source)"
   ]
  },
  {
   "cell_type": "code",
   "execution_count": 13,
   "id": "0149f8c3",
   "metadata": {},
   "outputs": [
    {
     "name": "stdout",
     "output_type": "stream",
     "text": [
      "Query results loaded to table /projects/fsi-select-demo/datasets/us_eia/tables/electricity_generation_by_type\n"
     ]
    }
   ],
   "source": [
    "sql = \"\"\"SELECT date, type, sum(value) as total_generation \n",
    "        FROM `fsi-select-demo.us_eia.electricity_generation`\n",
    "        group by date, type;\n",
    "\"\"\"\n",
    "table_ref = dataset.table(\"electricity_generation_by_type\")\n",
    "job_config = bigquery.QueryJobConfig(\n",
    "    destination=table_ref\n",
    ")\n",
    "\n",
    "# Start the query, passing in the extra configuration.\n",
    "client.delete_table(table_ref, not_found_ok=True)\n",
    "    \n",
    "query_job = client.query(sql, location=\"US\", job_config=job_config)\n",
    "\n",
    "query_job.result()  # Waits for the query to finish\n",
    "\n",
    "    \n",
    "print(\"Query results loaded to table {}\".format(table_ref.path))"
   ]
  },
  {
   "cell_type": "code",
   "execution_count": 14,
   "id": "b0e090a5",
   "metadata": {},
   "outputs": [
    {
     "name": "stdout",
     "output_type": "stream",
     "text": [
      "Query results loaded to table /projects/fsi-select-demo/datasets/us_eia/tables/electricity_generation_by_state\n"
     ]
    }
   ],
   "source": [
    "sql = \"\"\"SELECT date, state, sum(value) as total_generation \n",
    "        FROM `fsi-select-demo.us_eia.electricity_generation`\n",
    "        group by date, state;\n",
    "\"\"\"\n",
    "table_ref = dataset.table(\"electricity_generation_by_state\")\n",
    "job_config = bigquery.QueryJobConfig(\n",
    "    destination=table_ref\n",
    ")\n",
    "\n",
    "client.delete_table(table_ref, not_found_ok=True)\n",
    "\n",
    "# Start the query, passing in the extra configuration.\n",
    "query_job = client.query(sql, location=\"US\", job_config=job_config)\n",
    "\n",
    "query_job.result()  # Waits for the query to finish\n",
    "print(\"Query results loaded to table {}\".format(table_ref.path))"
   ]
  },
  {
   "cell_type": "code",
   "execution_count": 15,
   "id": "9a8c0dc5",
   "metadata": {},
   "outputs": [
    {
     "name": "stdout",
     "output_type": "stream",
     "text": [
      "Query results loaded to table /projects/fsi-select-demo/datasets/us_eia/tables/electricity_retail_pricing_by_consumer_type\n"
     ]
    }
   ],
   "source": [
    "sql = \"\"\"SELECT date, consumer_type, avg(value) as retail_price_avg, min(value) as retail_price_min, max(value) as retail_price_max \n",
    "        FROM `fsi-select-demo.us_eia.electricity_retail_pricing`\n",
    "        group by date, consumer_type;\n",
    "\"\"\"\n",
    "table_ref = dataset.table(\"electricity_retail_pricing_by_consumer_type\")\n",
    "job_config = bigquery.QueryJobConfig(\n",
    "    destination=table_ref\n",
    ")\n",
    "\n",
    "client.delete_table(table_ref, not_found_ok=True)\n",
    "\n",
    "\n",
    "# Start the query, passing in the extra configuration.\n",
    "query_job = client.query(sql, location=\"US\", job_config=job_config)\n",
    "\n",
    "query_job.result()  # Waits for the query to finish\n",
    "print(\"Query results loaded to table {}\".format(table_ref.path))"
   ]
  },
  {
   "cell_type": "code",
   "execution_count": 16,
   "id": "8785f6cf",
   "metadata": {},
   "outputs": [
    {
     "data": {
      "text/html": [
       "<div>\n",
       "<style scoped>\n",
       "    .dataframe tbody tr th:only-of-type {\n",
       "        vertical-align: middle;\n",
       "    }\n",
       "\n",
       "    .dataframe tbody tr th {\n",
       "        vertical-align: top;\n",
       "    }\n",
       "\n",
       "    .dataframe thead th {\n",
       "        text-align: right;\n",
       "    }\n",
       "</style>\n",
       "<table border=\"1\" class=\"dataframe\">\n",
       "  <thead>\n",
       "    <tr style=\"text-align: right;\">\n",
       "      <th></th>\n",
       "      <th>date</th>\n",
       "      <th>value</th>\n",
       "      <th>name</th>\n",
       "      <th>units</th>\n",
       "      <th>consumer_type</th>\n",
       "      <th>state</th>\n",
       "      <th>measure</th>\n",
       "      <th>period</th>\n",
       "      <th>dt_loaded</th>\n",
       "    </tr>\n",
       "  </thead>\n",
       "  <tbody>\n",
       "    <tr>\n",
       "      <th>0</th>\n",
       "      <td>2021-11-01</td>\n",
       "      <td>22.60</td>\n",
       "      <td>Average retail price of electricity : Alaska :...</td>\n",
       "      <td>cents per kilowatthour</td>\n",
       "      <td>residential</td>\n",
       "      <td>Alaska</td>\n",
       "      <td>Average retail price of electricity</td>\n",
       "      <td>monthly</td>\n",
       "      <td>2022-02-01</td>\n",
       "    </tr>\n",
       "    <tr>\n",
       "      <th>1</th>\n",
       "      <td>2021-10-01</td>\n",
       "      <td>23.21</td>\n",
       "      <td>Average retail price of electricity : Alaska :...</td>\n",
       "      <td>cents per kilowatthour</td>\n",
       "      <td>residential</td>\n",
       "      <td>Alaska</td>\n",
       "      <td>Average retail price of electricity</td>\n",
       "      <td>monthly</td>\n",
       "      <td>2022-02-01</td>\n",
       "    </tr>\n",
       "    <tr>\n",
       "      <th>2</th>\n",
       "      <td>2021-09-01</td>\n",
       "      <td>23.21</td>\n",
       "      <td>Average retail price of electricity : Alaska :...</td>\n",
       "      <td>cents per kilowatthour</td>\n",
       "      <td>residential</td>\n",
       "      <td>Alaska</td>\n",
       "      <td>Average retail price of electricity</td>\n",
       "      <td>monthly</td>\n",
       "      <td>2022-02-01</td>\n",
       "    </tr>\n",
       "    <tr>\n",
       "      <th>3</th>\n",
       "      <td>2021-08-01</td>\n",
       "      <td>23.31</td>\n",
       "      <td>Average retail price of electricity : Alaska :...</td>\n",
       "      <td>cents per kilowatthour</td>\n",
       "      <td>residential</td>\n",
       "      <td>Alaska</td>\n",
       "      <td>Average retail price of electricity</td>\n",
       "      <td>monthly</td>\n",
       "      <td>2022-02-01</td>\n",
       "    </tr>\n",
       "    <tr>\n",
       "      <th>4</th>\n",
       "      <td>2021-07-01</td>\n",
       "      <td>23.42</td>\n",
       "      <td>Average retail price of electricity : Alaska :...</td>\n",
       "      <td>cents per kilowatthour</td>\n",
       "      <td>residential</td>\n",
       "      <td>Alaska</td>\n",
       "      <td>Average retail price of electricity</td>\n",
       "      <td>monthly</td>\n",
       "      <td>2022-02-01</td>\n",
       "    </tr>\n",
       "  </tbody>\n",
       "</table>\n",
       "</div>"
      ],
      "text/plain": [
       "        date  value                                               name  \\\n",
       "0 2021-11-01  22.60  Average retail price of electricity : Alaska :...   \n",
       "1 2021-10-01  23.21  Average retail price of electricity : Alaska :...   \n",
       "2 2021-09-01  23.21  Average retail price of electricity : Alaska :...   \n",
       "3 2021-08-01  23.31  Average retail price of electricity : Alaska :...   \n",
       "4 2021-07-01  23.42  Average retail price of electricity : Alaska :...   \n",
       "\n",
       "                    units consumer_type   state  \\\n",
       "0  cents per kilowatthour   residential  Alaska   \n",
       "1  cents per kilowatthour   residential  Alaska   \n",
       "2  cents per kilowatthour   residential  Alaska   \n",
       "3  cents per kilowatthour   residential  Alaska   \n",
       "4  cents per kilowatthour   residential  Alaska   \n",
       "\n",
       "                               measure   period   dt_loaded  \n",
       "0  Average retail price of electricity  monthly  2022-02-01  \n",
       "1  Average retail price of electricity  monthly  2022-02-01  \n",
       "2  Average retail price of electricity  monthly  2022-02-01  \n",
       "3  Average retail price of electricity  monthly  2022-02-01  \n",
       "4  Average retail price of electricity  monthly  2022-02-01  "
      ]
     },
     "execution_count": 16,
     "metadata": {},
     "output_type": "execute_result"
    }
   ],
   "source": [
    "# Create a table that is a pivot.  We don't know what type of generation price point they are getting so for each date, have the types\n",
    "\n",
    "powerPricingDF.head()"
   ]
  },
  {
   "cell_type": "code",
   "execution_count": 17,
   "id": "3a05c9c2",
   "metadata": {},
   "outputs": [],
   "source": [
    "powerPricingGroupDF = powerPricingDF[['date','state','value','consumer_type']].groupby(by=['date','state','consumer_type'], as_index=False).mean()"
   ]
  },
  {
   "cell_type": "code",
   "execution_count": 18,
   "id": "d10743d3",
   "metadata": {},
   "outputs": [],
   "source": [
    "powerPricingGroupConsumerGroupDF = powerPricingGroupDF.rename_axis( axis=1)\n",
    "#powerPricingGroupConsumerGroupDF"
   ]
  },
  {
   "cell_type": "code",
   "execution_count": 19,
   "id": "2581c1eb",
   "metadata": {},
   "outputs": [],
   "source": [
    "powerPricingGroupConsumerGroupDF = powerPricingGroupConsumerGroupDF.reset_index(0)"
   ]
  },
  {
   "cell_type": "code",
   "execution_count": 20,
   "id": "3ad689d9",
   "metadata": {},
   "outputs": [
    {
     "data": {
      "text/html": [
       "<div>\n",
       "<style scoped>\n",
       "    .dataframe tbody tr th:only-of-type {\n",
       "        vertical-align: middle;\n",
       "    }\n",
       "\n",
       "    .dataframe tbody tr th {\n",
       "        vertical-align: top;\n",
       "    }\n",
       "\n",
       "    .dataframe thead th {\n",
       "        text-align: right;\n",
       "    }\n",
       "</style>\n",
       "<table border=\"1\" class=\"dataframe\">\n",
       "  <thead>\n",
       "    <tr style=\"text-align: right;\">\n",
       "      <th>consumer_type</th>\n",
       "      <th>date</th>\n",
       "      <th>state</th>\n",
       "      <th>commercial</th>\n",
       "      <th>industrial</th>\n",
       "      <th>other</th>\n",
       "      <th>residential</th>\n",
       "      <th>transportation</th>\n",
       "    </tr>\n",
       "  </thead>\n",
       "  <tbody>\n",
       "    <tr>\n",
       "      <th>0</th>\n",
       "      <td>2001-01-01</td>\n",
       "      <td>Alabama</td>\n",
       "      <td>6.44</td>\n",
       "      <td>3.94</td>\n",
       "      <td>6.60</td>\n",
       "      <td>6.33</td>\n",
       "      <td>NaN</td>\n",
       "    </tr>\n",
       "    <tr>\n",
       "      <th>1</th>\n",
       "      <td>2001-01-01</td>\n",
       "      <td>Alaska</td>\n",
       "      <td>9.70</td>\n",
       "      <td>7.05</td>\n",
       "      <td>13.36</td>\n",
       "      <td>11.22</td>\n",
       "      <td>NaN</td>\n",
       "    </tr>\n",
       "    <tr>\n",
       "      <th>2</th>\n",
       "      <td>2001-01-01</td>\n",
       "      <td>Arizona</td>\n",
       "      <td>6.74</td>\n",
       "      <td>4.64</td>\n",
       "      <td>4.43</td>\n",
       "      <td>6.99</td>\n",
       "      <td>0.0</td>\n",
       "    </tr>\n",
       "    <tr>\n",
       "      <th>3</th>\n",
       "      <td>2001-01-01</td>\n",
       "      <td>Arkansas</td>\n",
       "      <td>5.72</td>\n",
       "      <td>4.19</td>\n",
       "      <td>6.67</td>\n",
       "      <td>6.88</td>\n",
       "      <td>0.0</td>\n",
       "    </tr>\n",
       "    <tr>\n",
       "      <th>4</th>\n",
       "      <td>2001-01-01</td>\n",
       "      <td>California</td>\n",
       "      <td>9.28</td>\n",
       "      <td>5.75</td>\n",
       "      <td>5.42</td>\n",
       "      <td>10.89</td>\n",
       "      <td>0.0</td>\n",
       "    </tr>\n",
       "  </tbody>\n",
       "</table>\n",
       "</div>"
      ],
      "text/plain": [
       "consumer_type       date       state  commercial  industrial  other  \\\n",
       "0             2001-01-01     Alabama        6.44        3.94   6.60   \n",
       "1             2001-01-01      Alaska        9.70        7.05  13.36   \n",
       "2             2001-01-01     Arizona        6.74        4.64   4.43   \n",
       "3             2001-01-01    Arkansas        5.72        4.19   6.67   \n",
       "4             2001-01-01  California        9.28        5.75   5.42   \n",
       "\n",
       "consumer_type  residential  transportation  \n",
       "0                     6.33             NaN  \n",
       "1                    11.22             NaN  \n",
       "2                     6.99             0.0  \n",
       "3                     6.88             0.0  \n",
       "4                    10.89             0.0  "
      ]
     },
     "execution_count": 20,
     "metadata": {},
     "output_type": "execute_result"
    }
   ],
   "source": [
    "powerPricingGroupConsumerGroupDF.rename_axis( axis=1)\n",
    "powerPricingGroupConsumerGroupDF = powerPricingGroupConsumerGroupDF.reset_index(0)\n",
    "powerPricingGroupConsumerGroupDF = powerPricingGroupDF.pivot(index=['date', 'state'], columns='consumer_type')\n",
    "powerPricingGroupConsumerGroupDF.columns = powerPricingGroupConsumerGroupDF.columns.get_level_values(-1)\n",
    "powerPricingGroupConsumerGroupDF = powerPricingGroupConsumerGroupDF.reset_index()\n",
    "powerPricingGroupConsumerGroupDF.head()"
   ]
  },
  {
   "cell_type": "code",
   "execution_count": 21,
   "id": "ba10e50e",
   "metadata": {},
   "outputs": [
    {
     "name": "stdout",
     "output_type": "stream",
     "text": [
      "Loaded dataframe to /projects/fsi-select-demo/datasets/us_eia/tables/electricity_retail_pricing_type\n"
     ]
    }
   ],
   "source": [
    "table_ref = dataset.table(\"electricity_retail_pricing_type\")\n",
    "try:\n",
    "    dataset = client.create_dataset(dataset_id)\n",
    "except:\n",
    "    #Delete\n",
    "    client.delete_table(table_ref, not_found_ok=True)\n",
    "\n",
    "job = client.load_table_from_dataframe(powerPricingGroupConsumerGroupDF, table_ref, location=\"US\")\n",
    "\n",
    "job.result()  # Waits for table load to complete.\n",
    "print(\"Loaded dataframe to {}\".format(table_ref.path))"
   ]
  },
  {
   "cell_type": "code",
   "execution_count": 22,
   "id": "42ef47e0",
   "metadata": {},
   "outputs": [],
   "source": [
    "# Extra Metadata\n",
    "\n",
    "#https://companyprofiles.carbontracker.org/NRG%20Energy  (NRG)"
   ]
  },
  {
   "cell_type": "code",
   "execution_count": null,
   "id": "81df005f",
   "metadata": {},
   "outputs": [],
   "source": []
  },
  {
   "cell_type": "code",
   "execution_count": null,
   "id": "508fd5f5",
   "metadata": {},
   "outputs": [],
   "source": []
  },
  {
   "cell_type": "code",
   "execution_count": null,
   "id": "417e2608",
   "metadata": {},
   "outputs": [],
   "source": []
  }
 ],
 "metadata": {
  "environment": {
   "name": "common-cu110.m71",
   "type": "gcloud",
   "uri": "gcr.io/deeplearning-platform-release/base-cu110:m71"
  },
  "kernelspec": {
   "display_name": "Python 3",
   "language": "python",
   "name": "python3"
  },
  "language_info": {
   "codemirror_mode": {
    "name": "ipython",
    "version": 3
   },
   "file_extension": ".py",
   "mimetype": "text/x-python",
   "name": "python",
   "nbconvert_exporter": "python",
   "pygments_lexer": "ipython3",
   "version": "3.7.10"
  }
 },
 "nbformat": 4,
 "nbformat_minor": 5
}
