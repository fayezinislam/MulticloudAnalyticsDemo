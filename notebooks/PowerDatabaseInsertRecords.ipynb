{
 "cells": [
  {
   "cell_type": "code",
   "execution_count": 4,
   "id": "959a2b4a-d4e7-46e2-8899-204b3dc27b10",
   "metadata": {},
   "outputs": [
    {
     "name": "stdout",
     "output_type": "stream",
     "text": [
      "                 date  hour_zulu  state  demand_mgwhr   dt_loaded  year\n",
      "0 2022-02-23 16:00:00         16  Texas         54584  2022-02-23  2022\n",
      "1 2022-02-23 15:00:00         15  Texas         53292  2022-02-23  2022\n",
      "2 2022-02-23 14:00:00         14  Texas         52011  2022-02-23  2022\n",
      "3 2022-02-23 13:00:00         13  Texas         49485  2022-02-23  2022\n",
      "4 2022-02-23 12:00:00         12  Texas         45418  2022-02-23  2022\n"
     ]
    }
   ],
   "source": [
    "\n",
    "#Flag, this will delete all the records for 2022 and then repopulate them from the EIA source.  The EIA source updates hourly independently.\n",
    "purgeRecentRecords = True\n",
    "\n",
    "\n",
    "import pandas as pd\n",
    "from IPython.display import clear_output\n",
    "import requests\n",
    "import os\n",
    "\n",
    "#pip install eiapy\n",
    "\n",
    "os.environ['EIA_KEY'] = 'pGSYm7fJwZOAuwgo5jGqrOG8wsanmMFVYpaxeZSJ'\n",
    "API_KEY = os.environ['EIA_KEY']\n",
    "\n",
    "#from eiapy import Category, Series\n",
    "\n",
    "import time\n",
    "\n",
    "iid = 'EBA.TEX-ALL.D.H'\n",
    "url = 'https://api.eia.gov/series/?api_key={}&series_id={}'.format(API_KEY, iid)\n",
    "\n",
    "s = requests.Session()\n",
    "req = s.get(url)\n",
    "json_data = req.json()\n",
    "#print (json_data)\n",
    "\n",
    "\n",
    "## GET EIA DATA\n",
    "iid = 'EBA.TEX-ALL.D.H'\n",
    "#ser = Series(iid)\n",
    "#print (ser.get_data(all_data=True))\n",
    "#df = pd.DataFrame(ser.get_data(all_data=True)['series'][0]['data'])\n",
    "df = pd.DataFrame(json_data['series'][0]['data'])\n",
    "df.columns = ['dateraw', 'demand_mgwhr']\n",
    "df['date'] = pd.to_datetime(df['dateraw'], format='%Y%m%dT%HZ')\n",
    "df['hour_zulu'] = [x.hour for x in df['date']]\n",
    "df['year'] = [x.year for x in df['date']]\n",
    "del df['dateraw']\n",
    "df['state'] = 'Texas'\n",
    "df['dt_loaded'] = pd.Timestamp.date(pd.Timestamp.now())\n",
    "df = df[['date','hour_zulu','state','demand_mgwhr','dt_loaded','year']]\n",
    "\n",
    "print (df.head())\n",
    "\n"
   ]
  },
  {
   "cell_type": "code",
   "execution_count": 8,
   "id": "fc735d9c-05fe-409e-902c-1bc91dc13463",
   "metadata": {},
   "outputs": [
    {
     "name": "stdout",
     "output_type": "stream",
     "text": [
      "Last Record in DB: 2022-01-01 00:00:00\n",
      "New Records: 1288\n",
      "Inserting Slowly... INSERT INTO power_demand (date, hour_zulu, state, demand_mgwhr, dt_loaded) VALUES ('2022-01-01 01:00:00', '1',' Texas', '46427', '2022-02-23')\n"
     ]
    },
    {
     "ename": "KeyboardInterrupt",
     "evalue": "",
     "output_type": "error",
     "traceback": [
      "\u001b[0;31m---------------------------------------------------------------------------\u001b[0m",
      "\u001b[0;31mKeyboardInterrupt\u001b[0m                         Traceback (most recent call last)",
      "\u001b[0;32m/tmp/ipykernel_13627/3957137375.py\u001b[0m in \u001b[0;36m<module>\u001b[0;34m\u001b[0m\n\u001b[1;32m     60\u001b[0m     \u001b[0;31m#print (insert_query)\u001b[0m\u001b[0;34m\u001b[0m\u001b[0;34m\u001b[0m\u001b[0;34m\u001b[0m\u001b[0m\n\u001b[1;32m     61\u001b[0m     \u001b[0;32mif\u001b[0m \u001b[0mrow\u001b[0m\u001b[0;34m[\u001b[0m\u001b[0;34m'year'\u001b[0m\u001b[0;34m]\u001b[0m \u001b[0;34m>=\u001b[0m \u001b[0;36m2022\u001b[0m\u001b[0;34m:\u001b[0m\u001b[0;34m\u001b[0m\u001b[0;34m\u001b[0m\u001b[0m\n\u001b[0;32m---> 62\u001b[0;31m         \u001b[0mtime\u001b[0m\u001b[0;34m.\u001b[0m\u001b[0msleep\u001b[0m\u001b[0;34m(\u001b[0m\u001b[0;36m1\u001b[0m\u001b[0;34m)\u001b[0m\u001b[0;34m\u001b[0m\u001b[0;34m\u001b[0m\u001b[0m\n\u001b[0m\u001b[1;32m     63\u001b[0m         \u001b[0mprint\u001b[0m \u001b[0;34m(\u001b[0m\u001b[0;34m'Inserting Slowly...'\u001b[0m\u001b[0;34m,\u001b[0m \u001b[0minsert_query\u001b[0m\u001b[0;34m)\u001b[0m\u001b[0;34m\u001b[0m\u001b[0;34m\u001b[0m\u001b[0m\n\u001b[1;32m     64\u001b[0m     \u001b[0mcursor\u001b[0m\u001b[0;34m.\u001b[0m\u001b[0mexecute\u001b[0m\u001b[0;34m(\u001b[0m\u001b[0minsert_query\u001b[0m\u001b[0;34m)\u001b[0m\u001b[0;34m\u001b[0m\u001b[0;34m\u001b[0m\u001b[0m\n",
      "\u001b[0;31mKeyboardInterrupt\u001b[0m: "
     ]
    }
   ],
   "source": [
    "#Insert Records\n",
    "\n",
    "#DB Connection\n",
    "\n",
    "import mysql.connector\n",
    "from mysql.connector.constants import ClientFlag\n",
    "\n",
    "config = {\n",
    "    'user': 'demouser',\n",
    "    'password': 'demopassword',\n",
    "    'host': '10.86.32.2',\n",
    "#    'client_flags': [ClientFlag.SSL],\n",
    "#    'ssl_ca': 'ssl/server-ca.pem',\n",
    "#    'ssl_cert': 'ssl/client-cert.pem',\n",
    "#    'ssl_key': 'ssl/client-key.pem'\n",
    "}\n",
    "\n",
    "# now we establish our connection\n",
    "cnxn = mysql.connector.connect(**config)\n",
    "\n",
    "config['database'] = 'power'  # add new database to config dict\n",
    "cnxn = mysql.connector.connect(**config)\n",
    "cursor = cnxn.cursor()\n",
    "\n",
    "if purgeRecentRecords:\n",
    "    drop_recent = \"delete from power_demand where date >'2022-01-01 00:00:00'\"\n",
    "\n",
    "cursor.execute(drop_recent)\n",
    "\n",
    "#Get Latest Record from Table to truncate what is added\n",
    "latest_query=(\"select max(date) from power_demand\")\n",
    "try:\n",
    "    cursor.execute(latest_query)\n",
    "    last_update = cursor.fetchone()\n",
    "    last_update =last_update[0].strftime('%Y-%m-%d %H:%M:%S')\n",
    "    #print (\"Last Updated:\", last_update)\n",
    "    print (\"Last Record in DB:\",last_update)\n",
    "except:\n",
    "    pass #no results in table\n",
    "    last_update = '2000-01-01'\n",
    "    print (\"NO RECORDS in DB:\",last_update)\n",
    "\n",
    "\n",
    "\n",
    "#Insert New Records\n",
    "\n",
    "## Trim Dataframe to new records\n",
    "#print (df[df['date'] > last_update])\n",
    "df = df[(df['date'] > last_update)]\n",
    "\n",
    "print (\"New Records:\", len(df))\n",
    "\n",
    "\n",
    "import time\n",
    "df = df.sort_values(by='date', ascending=True)\n",
    "for index, row in df.iterrows():\n",
    "    #print(row['date'], row['hour_zulu'],row['state'],row['demand_mgwhr'],row['dt_loaded'])\n",
    "    insert_query = (\"INSERT INTO power_demand (date, hour_zulu, state, demand_mgwhr, dt_loaded)\"\n",
    "        \" VALUES ('%s', '%s',' %s', '%s', '%s')\" %( row['date'], row['hour_zulu'], row['state'], row['demand_mgwhr'], row['dt_loaded']))\n",
    "    #print (insert_query)\n",
    "    if row['year'] >= 2022:\n",
    "        time.sleep(1)\n",
    "        print ('Inserting Slowly...', insert_query)\n",
    "    cursor.execute(insert_query)\n",
    "    cnxn.commit()\n",
    "    \n",
    "\n"
   ]
  },
  {
   "cell_type": "code",
   "execution_count": null,
   "id": "64897713-05de-45c2-843e-5b9c3b05fde1",
   "metadata": {},
   "outputs": [],
   "source": []
  }
 ],
 "metadata": {
  "environment": {
   "kernel": "python3",
   "name": "common-cpu.m89",
   "type": "gcloud",
   "uri": "gcr.io/deeplearning-platform-release/base-cpu:m89"
  },
  "kernelspec": {
   "display_name": "Python 3",
   "language": "python",
   "name": "python3"
  },
  "language_info": {
   "codemirror_mode": {
    "name": "ipython",
    "version": 3
   },
   "file_extension": ".py",
   "mimetype": "text/x-python",
   "name": "python",
   "nbconvert_exporter": "python",
   "pygments_lexer": "ipython3",
   "version": "3.7.12"
  }
 },
 "nbformat": 4,
 "nbformat_minor": 5
}
